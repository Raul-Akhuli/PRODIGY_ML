{
 "cells": [
  {
   "cell_type": "markdown",
   "id": "a696e7ea",
   "metadata": {},
   "source": [
    "# implement a support vector machine (SVM) to classify images of cats and dogs from the Kaggle dataset."
   ]
  },
  {
   "cell_type": "code",
   "execution_count": 1,
   "id": "44e29c1c",
   "metadata": {},
   "outputs": [],
   "source": [
    "import os\n",
    "import numpy as np\n",
    "from PIL import Image\n",
    "from sklearn.model_selection import train_test_split\n",
    "from sklearn.svm import SVC\n",
    "from sklearn.metrics import accuracy_score, classification_report"
   ]
  },
  {
   "cell_type": "code",
   "execution_count": 2,
   "id": "25028ecf",
   "metadata": {},
   "outputs": [],
   "source": [
    "data_dir = 'C:/Users/HP/OneDrive/Desktop/ml_prodigy/train'"
   ]
  },
  {
   "cell_type": "code",
   "execution_count": 3,
   "id": "bcb30a0b",
   "metadata": {},
   "outputs": [],
   "source": [
    "cats_dir = os.path.join(data_dir, 'cats')\n",
    "dogs_dir = os.path.join(data_dir, 'dogs')"
   ]
  },
  {
   "cell_type": "code",
   "execution_count": 4,
   "id": "f56d91e0",
   "metadata": {},
   "outputs": [],
   "source": [
    "image_size = (64, 64)"
   ]
  },
  {
   "cell_type": "code",
   "execution_count": 5,
   "id": "5e9739b3",
   "metadata": {},
   "outputs": [],
   "source": [
    "def load_and_preprocess_images(directory, label):\n",
    "    images = []\n",
    "    labels = []\n",
    "    for filename in os.listdir(directory):\n",
    "        if filename.endswith(('.jpg', '.jpeg', '.png')):\n",
    "            try:\n",
    "                img_path = os.path.join(directory, filename)\n",
    "                img = Image.open(img_path).resize(image_size).convert('L') # Convert to grayscale\n",
    "                img_array = np.array(img).flatten() / 255.0  # Normalize pixel values\n",
    "                images.append(img_array)\n",
    "                labels.append(label)\n",
    "            except Exception as e:\n",
    "                print(f\"Error processing {filename}: {e}\")\n",
    "    return np.array(images), np.array(labels)\n",
    "\n",
    "cat_images, cat_labels = load_and_preprocess_images(cats_dir, 0)\n",
    "dog_images, dog_labels = load_and_preprocess_images(dogs_dir, 1)\n"
   ]
  },
  {
   "cell_type": "code",
   "execution_count": 6,
   "id": "ee6fc0ab",
   "metadata": {},
   "outputs": [
    {
     "name": "stdout",
     "output_type": "stream",
     "text": [
      "(801, 4096)\n",
      "(792, 4096)\n",
      "(801,)\n",
      "(792,)\n"
     ]
    }
   ],
   "source": [
    "print(cat_images.shape)\n",
    "print(dog_images.shape)\n",
    "print(cat_labels.shape)\n",
    "print(dog_labels.shape)"
   ]
  },
  {
   "cell_type": "code",
   "execution_count": 7,
   "id": "d0c96beb",
   "metadata": {},
   "outputs": [],
   "source": [
    "all_images = np.concatenate((cat_images, dog_images))\n",
    "all_labels = np.concatenate((cat_labels, dog_labels))"
   ]
  },
  {
   "cell_type": "code",
   "execution_count": 8,
   "id": "b19348c5",
   "metadata": {},
   "outputs": [],
   "source": [
    "X_train, X_test, y_train, y_test = train_test_split(all_images, all_labels, test_size=0.2, random_state=42)"
   ]
  },
  {
   "cell_type": "code",
   "execution_count": 9,
   "id": "eab379c9",
   "metadata": {},
   "outputs": [
    {
     "name": "stdout",
     "output_type": "stream",
     "text": [
      "Training SVM model...\n",
      "SVM model trained.\n"
     ]
    }
   ],
   "source": [
    "svm_model = SVC(kernel='linear', C=1.0, random_state=42) \n",
    "print(\"Training SVM model...\")\n",
    "svm_model.fit(X_train, y_train)\n",
    "print(\"SVM model trained.\")"
   ]
  },
  {
   "cell_type": "code",
   "execution_count": 10,
   "id": "d51fce39",
   "metadata": {},
   "outputs": [],
   "source": [
    "y_pred = svm_model.predict(X_test)\n",
    "accuracy = accuracy_score(y_test, y_pred)\n",
    "report = classification_report(y_test, y_pred, target_names=['cats', 'dogs'])"
   ]
  },
  {
   "cell_type": "code",
   "execution_count": 11,
   "id": "444c425c",
   "metadata": {},
   "outputs": [
    {
     "name": "stdout",
     "output_type": "stream",
     "text": [
      "Accuracy: 0.5329\n",
      "Classification Report:\n",
      "               precision    recall  f1-score   support\n",
      "\n",
      "        cats       0.57      0.54      0.55       170\n",
      "        dogs       0.50      0.53      0.51       149\n",
      "\n",
      "    accuracy                           0.53       319\n",
      "   macro avg       0.53      0.53      0.53       319\n",
      "weighted avg       0.53      0.53      0.53       319\n",
      "\n"
     ]
    }
   ],
   "source": [
    "print(f\"Accuracy: {accuracy:.4f}\")\n",
    "print(\"Classification Report:\\n\", report)"
   ]
  },
  {
   "cell_type": "code",
   "execution_count": null,
   "id": "50d661e5",
   "metadata": {},
   "outputs": [],
   "source": []
  }
 ],
 "metadata": {
  "kernelspec": {
   "display_name": "Python 3",
   "language": "python",
   "name": "python3"
  },
  "language_info": {
   "codemirror_mode": {
    "name": "ipython",
    "version": 3
   },
   "file_extension": ".py",
   "mimetype": "text/x-python",
   "name": "python",
   "nbconvert_exporter": "python",
   "pygments_lexer": "ipython3",
   "version": "3.13.3"
  }
 },
 "nbformat": 4,
 "nbformat_minor": 5
}
